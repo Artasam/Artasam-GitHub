{
 "cells": [
  {
   "cell_type": "code",
   "execution_count": 1,
   "id": "d4ff9a65",
   "metadata": {},
   "outputs": [],
   "source": [
    "import datetime as dt\n",
    "import tkinter as tk\n",
    "from tkinter import *\n",
    "from tkinter import PhotoImage,END\n",
    "import requests"
   ]
  },
  {
   "cell_type": "code",
   "execution_count": 2,
   "id": "1a3cfe32",
   "metadata": {},
   "outputs": [],
   "source": [
    "BASE_URL = \"http://api.openweathermap.org/data/2.5/weather?\""
   ]
  },
  {
   "cell_type": "code",
   "execution_count": 3,
   "id": "2668b172",
   "metadata": {},
   "outputs": [],
   "source": [
    "API_KEY = \"#########################\""
   ]
  },
  {
   "cell_type": "code",
   "execution_count": 4,
   "id": "37aacda7",
   "metadata": {},
   "outputs": [],
   "source": [
    "def City_Name():\n",
    "    CITY = var1.get()\n",
    "    url = BASE_URL + \"appid=\" + API_KEY + \"&q=\" + CITY\n",
    "    response = requests.get(url).json()\n",
    "    \n",
    "    \n",
    "    def kelvin_to_celsius_fahrenheit(kelvin):\n",
    "        celsius = kelvin - 273.15\n",
    "        fahrenheit = celsius * (9/5) + 32\n",
    "        return celsius, fahrenheit\n",
    "    \n",
    "    temp_kelvin = response['main']['temp']\n",
    "    temp_celsius, temp_fahrenheit = kelvin_to_celsius_fahrenheit(temp_kelvin)\n",
    "    \n",
    "    feels_like_kelvin = response['main']['feels_like']\n",
    "    feels_like_celsius, feels_like_fahrenheit = kelvin_to_celsius_fahrenheit(feels_like_kelvin)\n",
    "    \n",
    "    wind_speed = response['wind']['speed']\n",
    "    \n",
    "    humidity = response['main']['humidity']\n",
    "    description = response['weather'][0]['description']\n",
    "    \n",
    "    sunrise_time = dt.datetime.utcfromtimestamp(response['sys']['sunrise'] + response['timezone'])\n",
    "    sunset_time = dt.datetime.utcfromtimestamp(response['sys']['sunset'] + response['timezone']) \n",
    "    \n",
    "    l3.config(text = f\"Tempreture in {CITY} is {temp_celsius:.2f}°C\")\n",
    "    l4.config(text = f\"Tempreture in {CITY} is {feels_like_celsius:.2f}°C\")\n",
    "    l5.config(text = f\"Humidity in {CITY}: {humidity}%\")\n",
    "    l6.config(text = f\"Wind Speed in {CITY}: {wind_speed}m/s\")\n",
    "    l7.config(text = f\"General Weather in {CITY}: {description}\")\n",
    "    l8.config(text = f\"Sun rises in {CITY} at {sunrise_time} Local time.\")\n",
    "    l9.config(text = f\"Sun sets in {CITY} at {sunset_time} Local time.\")   "
   ]
  },
  {
   "cell_type": "code",
   "execution_count": 5,
   "id": "2a4d8c74",
   "metadata": {
    "scrolled": true
   },
   "outputs": [],
   "source": [
    "r = Tk()\n",
    "r.title(\"Weather Forecast\")\n",
    "r.iconbitmap(r'C:\\Users\\PMLS\\Downloads\\R (1).ico')\n",
    "\n",
    "r.geometry('700x600')\n",
    "r.geometry(\"+300+30\")\n",
    "\n",
    "image = PhotoImage(file=r\"C:\\Users\\PMLS\\Downloads\\Design.png\")\n",
    "image_label = Label(r, image=image)\n",
    "image_label.pack()\n",
    "\n",
    "\n",
    "l1=Label(r,text=\"Weather Forecast App\",bd=10,font=('Tahoma','23','bold'),bg='light blue').place(x=160,y=40)\n",
    "\n",
    "var1=StringVar()\n",
    "e1=Entry(r,width=20,textvariable=var1,bd=2,bg='light blue',font=(\"Tahoma\",'20'))\n",
    "e1.place(x=190,y=120)\n",
    "\n",
    "b=Button(r,text='Enter',width=10,height=1,bd=7,font=('Tahoma','12','bold'),fg='white',bg='grey',cursor='hand2',command = City_Name)\n",
    "b.place(x=285,y=180)\n",
    "\n",
    "l3=Label(r,width=46,bg='light blue',text =\"\" ,bd=10,font=('Tahoma','10','bold'))\n",
    "l3.place(x=150,y=250)\n",
    "\n",
    "l4=Label(r,width=46,bg='light blue',text =\"\" ,bd=10,font=('Tahoma','10','bold'))\n",
    "l4.place(x=150,y=300)\n",
    "\n",
    "l5=Label(r,width=46,bg='light blue',text =\"\" ,bd=10,font=('Tahoma','10','bold'))\n",
    "l5.place(x=150,y=350)\n",
    "\n",
    "l6=Label(r,width=46,bg='light blue',text =\"\" ,bd=10,font=('Tahoma','10','bold'))\n",
    "l6.place(x=150,y=400)\n",
    "\n",
    "l7=Label(r,width=46,bg='light blue',text =\"\" ,bd=10,font=('Tahoma','10','bold'))\n",
    "l7.place(x=150,y=450)\n",
    "\n",
    "l8=Label(r,width=46,bg='light blue',text =\"\" ,bd=10,font=('Tahoma','10','bold'))\n",
    "l8.place(x=150,y=500)\n",
    "\n",
    "l9=Label(r,width=46,bg='light blue',text =\"\" ,bd=10,font=('Tahoma','10','bold'))\n",
    "l9.place(x=150,y=550)\n",
    "\n",
    "r.mainloop()"
   ]
  }
 ],
 "metadata": {
  "kernelspec": {
   "display_name": "Python 3 (ipykernel)",
   "language": "python",
   "name": "python3"
  },
  "language_info": {
   "codemirror_mode": {
    "name": "ipython",
    "version": 3
   },
   "file_extension": ".py",
   "mimetype": "text/x-python",
   "name": "python",
   "nbconvert_exporter": "python",
   "pygments_lexer": "ipython3",
   "version": "3.11.5"
  }
 },
 "nbformat": 4,
 "nbformat_minor": 5
}
